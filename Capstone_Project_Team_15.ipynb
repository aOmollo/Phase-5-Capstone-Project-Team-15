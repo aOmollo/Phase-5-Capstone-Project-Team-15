{
  "nbformat": 4,
  "nbformat_minor": 0,
  "metadata": {
    "colab": {
      "provenance": []
    },
    "kernelspec": {
      "name": "python3",
      "display_name": "Python 3"
    },
    "language_info": {
      "name": "python"
    }
  },
  "cells": [
    {
      "cell_type": "markdown",
      "source": [
        "# **A CAPSTONE PROJECT OF THE MORINGA DSF-PT05 TEAM 15**"
      ],
      "metadata": {
        "id": "4R6IJwzvAugk"
      }
    },
    {
      "cell_type": "markdown",
      "source": [
        "### **LEVERAGING MACHINE LEARNING TO COMBAT BUSHMEAT POACHING AND ILLEGAL LOGGING IN ARABUKO-SOKOKE FOREST RESERVE, KENYA**"
      ],
      "metadata": {
        "id": "SINAM0sH_fUn"
      }
    },
    {
      "cell_type": "markdown",
      "source": [
        "# Table of Contents"
      ],
      "metadata": {
        "id": "tFzcZB6WEMu6"
      }
    },
    {
      "cell_type": "markdown",
      "source": [
        ">[A CAPSTONE PROJECT OF THE MORINGA DSF-PT05 TEAM 15](#updateTitle=true&folderId=1PuCRmatVDcPn4Rg0xKPFeaAzei8OgNJx&scrollTo=4R6IJwzvAugk)\n",
        "\n",
        ">>>[LEVERAGING MACHINE LEARNING TO COMBAT BUSHMEAT POACHING AND ILLEGAL LOGGING IN ARABUKO-SOKOKE FOREST RESERVE, KENYA](#updateTitle=true&folderId=1PuCRmatVDcPn4Rg0xKPFeaAzei8OgNJx&scrollTo=SINAM0sH_fUn)\n",
        "\n",
        ">[Table of Contents](#updateTitle=true&folderId=1PuCRmatVDcPn4Rg0xKPFeaAzei8OgNJx&scrollTo=tFzcZB6WEMu6)\n",
        "\n",
        ">>[Project Overview](#updateTitle=true&folderId=1PuCRmatVDcPn4Rg0xKPFeaAzei8OgNJx&scrollTo=IOUszpQACgtN)\n",
        "\n",
        ">>[Problem Statement](#updateTitle=true&folderId=1PuCRmatVDcPn4Rg0xKPFeaAzei8OgNJx&scrollTo=2Mxp6ta9HJi0)\n",
        "\n",
        ">>[Objectives](#updateTitle=true&folderId=1PuCRmatVDcPn4Rg0xKPFeaAzei8OgNJx&scrollTo=_X7o2y16h11C)\n",
        "\n",
        ">>[General Objective](#updateTitle=true&folderId=1PuCRmatVDcPn4Rg0xKPFeaAzei8OgNJx&scrollTo=_X7o2y16h11C)\n",
        "\n",
        ">>[Specific Objectives](#updateTitle=true&folderId=1PuCRmatVDcPn4Rg0xKPFeaAzei8OgNJx&scrollTo=_X7o2y16h11C)\n",
        "\n",
        ">>[Research Questions](#updateTitle=true&folderId=1PuCRmatVDcPn4Rg0xKPFeaAzei8OgNJx&scrollTo=KElbiRIvk00g)\n",
        "\n",
        ">>[The Data](#updateTitle=true&folderId=1PuCRmatVDcPn4Rg0xKPFeaAzei8OgNJx&scrollTo=nxpyWjAoHY69)\n",
        "\n",
        ">>>[1. Data Cleaning and Preprocessing](#updateTitle=true&folderId=1PuCRmatVDcPn4Rg0xKPFeaAzei8OgNJx&scrollTo=BczKfCdDH_sq)\n",
        "\n",
        ">>>[1.1 Handling missing values, outliers, and errors](#updateTitle=true&folderId=1PuCRmatVDcPn4Rg0xKPFeaAzei8OgNJx&scrollTo=BczKfCdDH_sq)\n",
        "\n",
        ">>>[1.2 Perform preprocessing tasks such as normalization, standardization, or feature scaling](#updateTitle=true&folderId=1PuCRmatVDcPn4Rg0xKPFeaAzei8OgNJx&scrollTo=BczKfCdDH_sq)\n",
        "\n",
        ">>>[1.3 Convert categorical variables into numerical representations - one-hot encoding or label encoding](#updateTitle=true&folderId=1PuCRmatVDcPn4Rg0xKPFeaAzei8OgNJx&scrollTo=BczKfCdDH_sq)\n",
        "\n",
        ">>>[2. Exploratory Data Analysis (EDA)](#updateTitle=true&folderId=1PuCRmatVDcPn4Rg0xKPFeaAzei8OgNJx&scrollTo=tq85vnqkJvih)\n",
        "\n",
        ">>>[2.1 Understand the structure, relationships, and patterns](#updateTitle=true&folderId=1PuCRmatVDcPn4Rg0xKPFeaAzei8OgNJx&scrollTo=tq85vnqkJvih)\n",
        "\n",
        ">>>[2.2 Statistical summaries, visualizations (e.g., histograms, scatter plots, heatmaps), and correlation analysis to gain insights](#updateTitle=true&folderId=1PuCRmatVDcPn4Rg0xKPFeaAzei8OgNJx&scrollTo=tq85vnqkJvih)\n",
        "\n",
        ">>>[2.3 Feature engineering - Create new features or transform existing features, polynomial features, interactions, transformations, and dimensionality reduction techniques (e.g., PCA)](#updateTitle=true&folderId=1PuCRmatVDcPn4Rg0xKPFeaAzei8OgNJx&scrollTo=tq85vnqkJvih)\n",
        "\n",
        ">>[3. Modeling](#updateTitle=true&folderId=1PuCRmatVDcPn4Rg0xKPFeaAzei8OgNJx&scrollTo=j4qduwSTcfOq)\n",
        "\n",
        ">>[4 . Model Evaluation](#updateTitle=true&folderId=1PuCRmatVDcPn4Rg0xKPFeaAzei8OgNJx&scrollTo=nju4fdBgdIPx)\n",
        "\n",
        ">>[5. Conclusions](#updateTitle=true&folderId=1PuCRmatVDcPn4Rg0xKPFeaAzei8OgNJx&scrollTo=eHy12C3geF7e)\n",
        "\n",
        ">>[6. Recommendations](#updateTitle=true&folderId=1PuCRmatVDcPn4Rg0xKPFeaAzei8OgNJx&scrollTo=Xg9Ly_7QeVMv)\n",
        "\n",
        ">>[7. Model Deployment](#updateTitle=true&folderId=1PuCRmatVDcPn4Rg0xKPFeaAzei8OgNJx&scrollTo=BJ91Rc8DeeOR)\n",
        "\n",
        ">>>[8.Project blog](#updateTitle=true&folderId=1PuCRmatVDcPn4Rg0xKPFeaAzei8OgNJx&scrollTo=7qyZGBOLfhmq)\n",
        "\n"
      ],
      "metadata": {
        "colab_type": "toc",
        "id": "4ph7t3IeEEg1"
      }
    },
    {
      "cell_type": "markdown",
      "source": [
        "## **Project Overview**\n",
        "\n",
        "This Project focuses on leveraging machine learning techniques to address the pressing issues of bushmeat poaching and illegal logging in the Arabuko-Sokoke Forest Reserve, Kenya. Recognizing the significance of the ASF as a UNESCO Man and Biosphere Reserve and a vital biodiversity hotspot, the project aims to combat these threats that jeopardize the integrity of the forest ecosystem and the livelihoods of local communities.\n",
        "\n",
        "Through the analysis of historical data, the team endeavors to develop predictive models to forecast future illegal activities within the forest reserve. By identifying key seasonal, temporal, and spatial factors influencing these activities, the project seeks to provide actionable insights to guide conservation interventions and law enforcement strategies.\n",
        "\n",
        "The project involves comprehensive data cleaning, preprocessing, exploratory data analysis, and modeling phases, utilizing various machine learning algorithms such as Random Forest, Gradient Boosting, and Neural Networks.\n",
        "\n",
        "Ultimately, the project aims to not only provide valuable insights into the dynamics of illegal activities in the forest but also contribute to informed conservation strategies and policy decisions, thereby safeguarding the ecological and socio-economic value of the Arabuko-Sokoke Forest Reserve."
      ],
      "metadata": {
        "id": "IOUszpQACgtN"
      }
    },
    {
      "cell_type": "markdown",
      "source": [
        "##**Problem Statement**\n",
        "The Arabuko-Sokoke Forest (ASF), a UNESCO Man and Biosphere Reserve and a crucial biodiversity hotspot, faces persistent threats from illegal poaching and logging. These activities are primarily driven by the high demand for forest products from the nearby urban centers such as Malindi, Watamu, Kilifi, and Mombasa, as well as the presence of over 200,000 people living at the forest boundary.\n",
        "\n",
        "These threats endanger the integrity of the forest ecosystem, its biodiversity, and the livelihoods of local communities dependent on its resources. Effective strategies are needed to combat the illegal utilization of forest resources and safeguard the ecological and socio-economic value of ASF.\n"
      ],
      "metadata": {
        "id": "2Mxp6ta9HJi0"
      }
    },
    {
      "cell_type": "markdown",
      "source": [
        "## **Objectives**\n",
        "##   *General Objective*\n",
        "\n",
        "    To provide actionable insights to guide conservation interventions and law enforcement strategies using machine learning to develop predictive models to forecast future illegal activities in the forest reserve and support proactive conservation efforts.\n",
        "\n",
        "##    *Specific Objectives*\n",
        "\n",
        "    I.  Develop predictive models based on historical data to forecast illegal logging and bushmeat poaching activity in the Arabuko-Sokoke Forest (ASF).\n",
        "\n",
        "    II. Identify key seasons, temporal trends, and spatial factors influencing\n",
        "\n",
        "    III. Evaluate the effectiveness of different machine learning algorithms, such as Random Forest, Gradient Boosting, and Neural Networks, in predicting and understanding illegal logging and poaching patterns in ASF.\n",
        "\n",
        "  \n"
      ],
      "metadata": {
        "id": "_X7o2y16h11C"
      }
    },
    {
      "cell_type": "markdown",
      "source": [
        "## **Research Questions**\n",
        "  \n",
        "\n",
        "    I.How accurately can historical data be used to forecast illegal logging and bushmeat poaching activity in ASF?\n",
        "    II. What are the key seasonal, temporal, and spatial factors that influence illegal logging and poaching activities in ASF?\n",
        "    III. Which machine learning algorithms are most effective in predicting and understanding illegal logging and poaching patterns in ASF?\n",
        "    IV. How can the insights from these predictive models be used to inform conservation strategies and policy decisions in ASF?"
      ],
      "metadata": {
        "id": "KElbiRIvk00g"
      }
    },
    {
      "cell_type": "markdown",
      "source": [
        "##**The Data**"
      ],
      "metadata": {
        "id": "nxpyWjAoHY69"
      }
    },
    {
      "cell_type": "markdown",
      "source": [
        "### **1. Data Cleaning and Preprocessing**\n",
        "### *1.1 Handling missing values, outliers, and errors*\n",
        "### *1.2 Perform preprocessing tasks such as normalization, standardization, or feature scaling*\n",
        "### *1.3 Convert categorical variables into numerical representations - one-hot encoding or label encoding*\n"
      ],
      "metadata": {
        "id": "BczKfCdDH_sq"
      }
    },
    {
      "cell_type": "markdown",
      "source": [
        "### **2. Exploratory Data Analysis (EDA)**\n",
        "### *2.1 Understand the structure, relationships, and patterns*\n",
        "### *2.2 Statistical summaries, visualizations (e.g., histograms, scatter plots, heatmaps), and correlation analysis to gain insights*\n",
        "### *2.3 Feature engineering - Create new features or transform existing features, polynomial features, interactions, transformations, and dimensionality reduction techniques (e.g., PCA)*\n"
      ],
      "metadata": {
        "id": "tq85vnqkJvih"
      }
    },
    {
      "cell_type": "markdown",
      "source": [
        "## **3. Modeling**\n",
        "*3.1 Model Selection*\n",
        "\n",
        "*3.2 Model Training*\n",
        "\n",
        "•\tSplit the data into training and validation/test sets\n",
        "\n",
        "•\tTrain the selected models using the training data\n",
        "\n",
        "•\tOptimize model hyperparameters using techniques like grid search, random search, or Bayesian optimization\n"
      ],
      "metadata": {
        "id": "j4qduwSTcfOq"
      }
    },
    {
      "cell_type": "markdown",
      "source": [
        "## **4 . Model Evaluation**\n",
        "•\tEvaluate model performance using appropriate metrics (accuracy, precision, recall, F1-score, RMSE\n",
        "\n",
        "•\tCompare different models and select the best-performing one.\n",
        "\n",
        "•\tUse techniques like cross-validation to ensure robustness of the evaluation.\n"
      ],
      "metadata": {
        "id": "nju4fdBgdIPx"
      }
    },
    {
      "cell_type": "markdown",
      "source": [
        "## **5. Conclusions**\n",
        "\n",
        "*Based on the modeling results and evaluation, draw conclusive insights and results based on the research objectives**"
      ],
      "metadata": {
        "id": "eHy12C3geF7e"
      }
    },
    {
      "cell_type": "markdown",
      "source": [
        "## **6. Recommendations**\n",
        "*Based on the conclusions, give recommendations or further course of action to the various stake holders*"
      ],
      "metadata": {
        "id": "Xg9Ly_7QeVMv"
      }
    },
    {
      "cell_type": "markdown",
      "source": [
        "## **7. Model Deployment**\n",
        "•\tDeploy the trained model into production environment\n",
        "\n",
        "•\tIntegrate the model with existing systems or applications\n",
        "\n",
        "•\tMonitor model performance and retrain/update as needed\n"
      ],
      "metadata": {
        "id": "BJ91Rc8DeeOR"
      }
    },
    {
      "cell_type": "markdown",
      "source": [
        "### *8.Project blog*\n",
        "\n",
        "**Primary Researchers**\n",
        "\n",
        "\tPhilip Mweri\n",
        "\tMlati Ochieng\n",
        "\tAhmed Haji\n",
        "\tAllan Omollo\n",
        "\tStella Ndegwa\n",
        "\n",
        "\n",
        "2. References, sources, attributes"
      ],
      "metadata": {
        "id": "7qyZGBOLfhmq"
      }
    },
    {
      "cell_type": "code",
      "source": [],
      "metadata": {
        "id": "mJyWtCGYf5TP"
      },
      "execution_count": null,
      "outputs": []
    }
  ]
}